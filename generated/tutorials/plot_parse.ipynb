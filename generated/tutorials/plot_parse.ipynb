{
  "cells": [
    {
      "cell_type": "code",
      "execution_count": null,
      "metadata": {
        "collapsed": false
      },
      "outputs": [],
      "source": [
        "%matplotlib inline"
      ]
    },
    {
      "cell_type": "markdown",
      "metadata": {},
      "source": [
        "\nAlternating text and code\n=========================\n\nMkdocs-Gallery is capable of transforming Python files into MD files\nwith a notebook structure. For this to be used you need to respect some syntax\nrules. This example demonstrates how to alternate text and code blocks and some\nedge cases. It was designed to be compared with the\n[source Python script](./plot_parse.py).\n"
      ]
    },
    {
      "cell_type": "markdown",
      "metadata": {},
      "source": [
        "This is the first text block and directly follows the header docstring above.\n\n"
      ]
    },
    {
      "cell_type": "code",
      "execution_count": null,
      "metadata": {
        "collapsed": false
      },
      "outputs": [],
      "source": [
        "import numpy as np"
      ]
    },
    {
      "cell_type": "code",
      "execution_count": null,
      "metadata": {
        "collapsed": false
      },
      "outputs": [],
      "source": [
        "# You can separate code blocks using either a single line of ``#``'s\n# (>=20 columns), ``#%%``, or ``# %%``. For consistency, it is recommend that\n# you use only one of the above three 'block splitter' options in your project.\nA = 1\n\nimport matplotlib.pyplot as plt"
      ]
    },
    {
      "cell_type": "markdown",
      "metadata": {},
      "source": [
        "Block splitters allow you alternate between code and text blocks **and**\nseparate sequential blocks of code (above) and text (below).\n\n"
      ]
    },
    {
      "cell_type": "markdown",
      "metadata": {},
      "source": [
        "A line of ``#``'s also works for separating blocks. The above line of ``#``'s\nseparates the text block above from this text block. Notice however, that\nseparated text blocks only shows as a new lines between text, in the rendered\noutput.\n\n"
      ]
    },
    {
      "cell_type": "code",
      "execution_count": null,
      "metadata": {
        "collapsed": false
      },
      "outputs": [],
      "source": [
        "def dummy():\n    \"\"\"This should not be part of a 'text' block'\"\"\"\n\n    # %%\n    # This comment inside a code block will remain in the code block\n    pass\n\n# this line should not be part of a 'text' block"
      ]
    },
    {
      "cell_type": "markdown",
      "metadata": {},
      "source": [
        "####################################################################\n\nThe above syntax makes a line cut in Sphinx. Note the space between the first\n``#`` and the line of ``#``'s.\n\n"
      ]
    },
    {
      "cell_type": "markdown",
      "metadata": {},
      "source": [
        "!!! warning\n    The next kind of comments are not supported (notice the line of ``#``'s\n    and the ``# %%`` start at the margin instead of being indented like\n    above) and become too hard to escape so just don't use code like this:\n\n        def dummy2():\n            \"\"\"Function docstring\"\"\"\n        ####################################\n        # This comment\n        # %%\n        # and this comment inside python indentation\n        # breaks the block structure and is not\n        # supported\n            dummy2\n\n\n"
      ]
    },
    {
      "cell_type": "code",
      "execution_count": null,
      "metadata": {
        "collapsed": false
      },
      "outputs": [],
      "source": [
        "\"\"\"Free strings are not supported. They will be rendered as a code block\"\"\""
      ]
    },
    {
      "cell_type": "markdown",
      "metadata": {},
      "source": [
        "New lines can be included in your text block and the parser\nis capable of retaining this important whitespace to work with Sphinx.\nEverything after a block splitter and starting with ``#`` then one space,\nis interpreted by Sphinx-Gallery to be a MD text block. Keep your text\nblock together using ``#`` and a space at the beginning of each line.\n\n## MD header within a text block\n\nNote that Markdown supports\n[an alternate syntax for headings](https://www.markdownguide.org/basic-syntax/),\nthat is far easier to read in the context of gallery examples:\n\nMD header within a text block, alternate syntax\n-----------------------------------------------\n\n\n"
      ]
    },
    {
      "cell_type": "code",
      "execution_count": null,
      "metadata": {
        "collapsed": false
      },
      "outputs": [],
      "source": [
        "print('one')"
      ]
    },
    {
      "cell_type": "code",
      "execution_count": null,
      "metadata": {
        "collapsed": false
      },
      "outputs": [],
      "source": [
        "# another way to separate code blocks shown above\nB = 1"
      ]
    },
    {
      "cell_type": "markdown",
      "metadata": {},
      "source": [
        "Last text block.\n\nThat's all folks !\n\n```python title=\"plot_parse.py\"\n--8<-- \"docs/tutorials/plot_parse.py\"\n```\n\n\n"
      ]
    }
  ],
  "metadata": {
    "kernelspec": {
      "display_name": "Python 3",
      "language": "python",
      "name": "python3"
    },
    "language_info": {
      "codemirror_mode": {
        "name": "ipython",
        "version": 3
      },
      "file_extension": ".py",
      "mimetype": "text/x-python",
      "name": "python",
      "nbconvert_exporter": "python",
      "pygments_lexer": "ipython3",
      "version": "3.7.13"
    }
  },
  "nbformat": 4,
  "nbformat_minor": 0
}