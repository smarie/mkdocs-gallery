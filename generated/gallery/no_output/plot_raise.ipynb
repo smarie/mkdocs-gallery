{
  "cells": [
    {
      "cell_type": "code",
      "execution_count": null,
      "metadata": {
        "collapsed": false
      },
      "outputs": [],
      "source": [
        "%matplotlib inline"
      ]
    },
    {
      "cell_type": "markdown",
      "metadata": {},
      "source": [
        "\nExample that fails to execute\n=============================\n\nThis example demonstrates a code block that raises an error and how any code\nblocks that follow are not executed.\n\nWhen scripts fail, their gallery thumbnail is replaced with the broken\nimage stamp. This allows easy identification in the gallery display.\n\nYou will also get the python traceback of the failed code block.\n"
      ]
    },
    {
      "cell_type": "code",
      "execution_count": null,
      "metadata": {
        "collapsed": false
      },
      "outputs": [],
      "source": [
        "# Code source: \u00d3scar N\u00e1jera\n# License: BSD 3 clause\n# sphinx_gallery_line_numbers = True\n\nimport numpy as np\nimport matplotlib.pyplot as plt\n\nplt.pcolormesh(np.random.randn(100, 100))"
      ]
    },
    {
      "cell_type": "markdown",
      "metadata": {},
      "source": [
        "This next block will raise a NameError\n\n"
      ]
    },
    {
      "cell_type": "code",
      "execution_count": null,
      "metadata": {
        "collapsed": false
      },
      "outputs": [],
      "source": [
        "iae"
      ]
    },
    {
      "cell_type": "markdown",
      "metadata": {},
      "source": [
        "Sphinx gallery will stop executing the remaining code blocks after\nthe exception has occurred in the example script. Nevertheless the\nhtml will still render all the example annotated text and\ncode blocks, but no output will be shown.\n\n"
      ]
    },
    {
      "cell_type": "markdown",
      "metadata": {},
      "source": [
        "Here is another error raising block but will not be executed\n\n"
      ]
    },
    {
      "cell_type": "code",
      "execution_count": null,
      "metadata": {
        "collapsed": false
      },
      "outputs": [],
      "source": [
        "plt.plot('Strings are not a valid argument for the plot function')"
      ]
    }
  ],
  "metadata": {
    "kernelspec": {
      "display_name": "Python 3",
      "language": "python",
      "name": "python3"
    },
    "language_info": {
      "codemirror_mode": {
        "name": "ipython",
        "version": 3
      },
      "file_extension": ".py",
      "mimetype": "text/x-python",
      "name": "python",
      "nbconvert_exporter": "python",
      "pygments_lexer": "ipython3",
      "version": "3.9.19"
    }
  },
  "nbformat": 4,
  "nbformat_minor": 0
}