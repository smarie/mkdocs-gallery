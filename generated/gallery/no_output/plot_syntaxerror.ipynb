{
  "cells": [
    {
      "cell_type": "code",
      "execution_count": null,
      "metadata": {
        "collapsed": false
      },
      "outputs": [],
      "source": [
        "%matplotlib inline"
      ]
    },
    {
      "cell_type": "markdown",
      "metadata": {},
      "source": [
        "\nSyntaxError\n===========\n\nExample script with invalid Python syntax\n\n"
      ]
    },
    {
      "cell_type": "code",
      "execution_count": null,
      "metadata": {
        "collapsed": false
      },
      "outputs": [],
      "source": [
        "# -*- coding: utf-8 -*-\n\"\"\"\nExample with SyntaxError\n========================\n\nSphinx-Gallery uses Python's AST parser, thus you need to have written\nvalid python code for Sphinx-Gallery to parse it. If your script has a\nSyntaxError you'll be presented the traceback and the original code.\n\"\"\"\n# Code source: \u00d3scar N\u00e1jera\n# License: BSD 3 clause\n\nInvalid Python code"
      ]
    }
  ],
  "metadata": {
    "kernelspec": {
      "display_name": "Python 3",
      "language": "python",
      "name": "python3"
    },
    "language_info": {
      "codemirror_mode": {
        "name": "ipython",
        "version": 3
      },
      "file_extension": ".py",
      "mimetype": "text/x-python",
      "name": "python",
      "nbconvert_exporter": "python",
      "pygments_lexer": "ipython3",
      "version": "3.9.19"
    }
  },
  "nbformat": 4,
  "nbformat_minor": 0
}