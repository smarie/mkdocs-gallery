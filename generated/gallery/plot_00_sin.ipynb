{
  "cells": [
    {
      "cell_type": "code",
      "execution_count": null,
      "metadata": {
        "collapsed": false
      },
      "outputs": [],
      "source": [
        "%matplotlib inline"
      ]
    },
    {
      "cell_type": "markdown",
      "metadata": {},
      "source": [
        "\nIntroductory example - Plotting sin\n===================================\n\nThis is a general example demonstrating a Matplotlib plot output, embedded\nMarkdown, the use of math notation and cross-linking to other examples. It would be\nuseful to compare the [:fontawesome-solid-download: source Python file](./plot_0_sin.py)\nwith the output below.\n\nSource files for gallery examples should start with a triple-quoted header\ndocstring. Anything before the docstring is ignored by Mkdocs-Gallery and will\nnot appear in the rendered output, nor will it be executed. This docstring\nrequires a Markdown header, which is used as the title of the example and\nto correctly build cross-referencing links.\n\nCode and embedded Markdown text blocks follow the docstring. The first block\nimmediately after the docstring is deemed a code block, by default, unless you\nspecify it to be a text block using a line of ``#``'s or ``#%%`` (see below).\nAll code blocks get executed by Mkdocs-Gallery and any output, including plots\nwill be captured. Typically, code and text blocks are interspersed to provide\nnarrative explanations of what the code is doing or interpretations of code\noutput.\n\nMathematical expressions can be included as LaTeX, and will be rendered with\nMathJax. See\n[mkdocs-material](https://squidfunk.github.io/mkdocs-material/reference/mathjax)\nfor configuration of your `mkdocs.yml` as well as for syntax details. For example,\nwe are about to plot the following function:\n\n$$\nx \\rightarrow \\sin(x)\n$$\n\nHere the function $\\sin$ is evaluated at each point the variable $x$ is defined.\nWhen including LaTeX in a Python string, ensure that you escape the backslashes\nor use a raw docstring. You do not need to do this in\ntext blocks (see below).\n"
      ]
    },
    {
      "cell_type": "code",
      "execution_count": null,
      "metadata": {
        "collapsed": false
      },
      "outputs": [],
      "source": [
        "import numpy as np\nimport matplotlib.pyplot as plt\n\nx = np.linspace(0, 2 * np.pi, 100)\ny = np.sin(x)\n\nplt.plot(x, y)\nplt.xlabel(r'$x$')\nplt.ylabel(r'$\\sin(x)$')\n# To avoid matplotlib text output\nplt.show()"
      ]
    },
    {
      "cell_type": "markdown",
      "metadata": {},
      "source": [
        "To include embedded Markdown, use a line of >= 20 ``#``'s or ``#%%`` between\nyour Markdown and your code (see [syntax](../../index.md#3-add-gallery-examples)). This separates your example\ninto distinct text and code blocks. You can continue writing code below the\nembedded Markdown text block:\n\n"
      ]
    },
    {
      "cell_type": "code",
      "execution_count": null,
      "metadata": {
        "collapsed": false
      },
      "outputs": [],
      "source": [
        "print('This example shows a sin plot!')"
      ]
    },
    {
      "cell_type": "markdown",
      "metadata": {},
      "source": [
        "LaTeX syntax in the text blocks does not require backslashes to be escaped:\n\n$$\n\\sin\n$$\n\nCross referencing\n-----------------\n\nYou can refer to an example from any part of the documentation,\nincluding from other examples. However as opposed to what happens in Sphinx,\nthere is no possibility to create unique identifiers in MkDocs.\n\nSo you should use relative paths. First, let's note that the markdown\nfor the current file is located at `docs/generated/gallery/plot_1_sin.md`.\nThis is because the configuration for this gallery in `mkdocs.yml` states\nthat the `examples/` gallery should be generated in the `generated/gallery`\nfolder (see [Configuration](../../index.md#a-basics)).\n\nBelow, the example we want to cross-reference is the 'SyntaxError' example,\nlocated in the `no_output` subgallery of the `examples` gallery.\nThe associated generated file is\n`docs/generated/gallery/no_output/plot_syntaxerror.md`.\n\n```\ndocs/\n\u2514\u2500\u2500 generated/\n    \u2514\u2500\u2500 gallery/\n        \u251c\u2500\u2500 no_output/\n        \u2502   \u251c\u2500\u2500 plot_syntaxerror.md  # example to reference\n        \u2502   \u2514\u2500\u2500 ...\n        \u251c\u2500\u2500 plot_1_sin.md            # current example\n        \u2514\u2500\u2500 ...\n```\n\nWe can therefore cross-link to the example using\n`[SyntaxError](./no_output/plot_syntaxerror.md)`:\n[SyntaxError](./no_output/plot_syntaxerror.md).\n\nOf course as for normal documents, we can leverage plugins\n(e.g. mkdocs-material) and extensions. So here we use\n[admonitions](https://squidfunk.github.io/mkdocs-material/reference/admonitions/#supported-types):\nto create a nice \"see also\" note:\n\n!!! info \"See also\"\n    See [SyntaxError](./no_output/plot_syntaxerror.md) for an example with an error.\n\n\n"
      ]
    }
  ],
  "metadata": {
    "kernelspec": {
      "display_name": "Python 3",
      "language": "python",
      "name": "python3"
    },
    "language_info": {
      "codemirror_mode": {
        "name": "ipython",
        "version": 3
      },
      "file_extension": ".py",
      "mimetype": "text/x-python",
      "name": "python",
      "nbconvert_exporter": "python",
      "pygments_lexer": "ipython3",
      "version": "3.9.20"
    }
  },
  "nbformat": 4,
  "nbformat_minor": 0
}