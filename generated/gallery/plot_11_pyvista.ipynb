{
  "cells": [
    {
      "cell_type": "code",
      "execution_count": null,
      "metadata": {
        "collapsed": false
      },
      "outputs": [],
      "source": [
        "%matplotlib inline"
      ]
    },
    {
      "cell_type": "markdown",
      "metadata": {},
      "source": [
        "\nExample with the pyvista 3d plotting library\n============================================\n\nMkdocs-Gallery supports examples made with the\n[pyvista library](https://docs.pyvista.org/version/stable/). \n\nIn order to use pyvista, the [`conf_script` of the project](../../index.md#b-advanced) should include the\nfollowing lines to adequatly configure pyvista:\n\n```python\nimport pyvista\n\npyvista.BUILDING_GALLERY = True\npyvista.OFF_SCREEN = True\n\nconf = {\n    ...,\n    \"image_scrapers\": (\"pyvista\", ...),\n}\n```\n"
      ]
    },
    {
      "cell_type": "code",
      "execution_count": null,
      "metadata": {
        "collapsed": false
      },
      "outputs": [],
      "source": [
        "import pyvista as pv"
      ]
    },
    {
      "cell_type": "markdown",
      "metadata": {},
      "source": [
        "You can display an animation as a gif\n\n"
      ]
    },
    {
      "cell_type": "code",
      "execution_count": null,
      "metadata": {
        "collapsed": false
      },
      "outputs": [],
      "source": [
        "sphere = pv.Sphere()\npl = pv.Plotter()\npl.enable_hidden_line_removal()\npl.add_mesh(sphere, show_edges=True, color=\"tan\")\n# for this example\npl.open_gif(\"animation.gif\", fps=10)\n# alternatively, to disable movie generation:\n# pl.show(auto_close=False, interactive=False)\ndelta_x = 0.05\ncenter = sphere.center\nfor angle in range(0, 360, 10):\n\n    rot = sphere.rotate_x(angle, point=(0, 0, 0), inplace=False)\n\n    pl.clear_actors()\n    pl.add_mesh(rot, show_edges=True, color=\"tan\")\n    pl.write_frame()\n\n\npl.show()"
      ]
    },
    {
      "cell_type": "markdown",
      "metadata": {},
      "source": [
        "or simply show a static plot\n\n"
      ]
    },
    {
      "cell_type": "code",
      "execution_count": null,
      "metadata": {
        "collapsed": false
      },
      "outputs": [],
      "source": [
        "sphere = pv.Sphere()\npl = pv.Plotter()\npl.add_mesh(sphere, show_edges=True, color=\"tan\")\npl.show()"
      ]
    }
  ],
  "metadata": {
    "kernelspec": {
      "display_name": "Python 3",
      "language": "python",
      "name": "python3"
    },
    "language_info": {
      "codemirror_mode": {
        "name": "ipython",
        "version": 3
      },
      "file_extension": ".py",
      "mimetype": "text/x-python",
      "name": "python",
      "nbconvert_exporter": "python",
      "pygments_lexer": "ipython3",
      "version": "3.9.19"
    }
  },
  "nbformat": 4,
  "nbformat_minor": 0
}