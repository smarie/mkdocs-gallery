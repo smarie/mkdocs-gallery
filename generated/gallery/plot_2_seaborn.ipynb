{
  "cells": [
    {
      "cell_type": "code",
      "execution_count": null,
      "metadata": {
        "collapsed": false
      },
      "outputs": [],
      "source": [
        "%matplotlib inline"
      ]
    },
    {
      "cell_type": "markdown",
      "metadata": {},
      "source": [
        "\nSeaborn example\n===============\n\nThis example demonstrates a Seaborn plot. Figures produced Matplotlib **and**\nby any package that is based on Matplotlib (e.g., Seaborn), will be\ncaptured by default.\nSee [Image scrapers](https://sphinx-gallery.github.io/stable/configuration.html#image-scrapers) for details.\n"
      ]
    },
    {
      "cell_type": "code",
      "execution_count": null,
      "metadata": {
        "collapsed": false
      },
      "outputs": [],
      "source": [
        "# Author: Michael Waskom & Lucy Liu\n# License: BSD 3 clause\n\nfrom __future__ import division, absolute_import, print_function\n\n\nimport numpy as np\nimport matplotlib.pyplot as plt\nimport seaborn as sns\n\n# Enforce the use of default set style\n\n# Create a noisy periodic dataset\ny_array = np.array([])\nx_array = np.array([])\nrs = np.random.RandomState(8)\nfor _ in range(15):\n    x = np.linspace(0, 30 / 2, 30)\n    y = np.sin(x) + rs.normal(0, 1.5) + rs.normal(0, .3, 30)\n    y_array = np.append(y_array, y)\n    x_array = np.append(x_array, x)\n\n# Plot the average over replicates with confidence interval\nsns.lineplot(y=y_array, x=x_array)\n# to avoid text output\nplt.show()"
      ]
    }
  ],
  "metadata": {
    "kernelspec": {
      "display_name": "Python 3",
      "language": "python",
      "name": "python3"
    },
    "language_info": {
      "codemirror_mode": {
        "name": "ipython",
        "version": 3
      },
      "file_extension": ".py",
      "mimetype": "text/x-python",
      "name": "python",
      "nbconvert_exporter": "python",
      "pygments_lexer": "ipython3",
      "version": "3.7.13"
    }
  },
  "nbformat": 4,
  "nbformat_minor": 0
}