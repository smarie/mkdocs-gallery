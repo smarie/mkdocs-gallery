{
  "cells": [
    {
      "cell_type": "code",
      "execution_count": null,
      "metadata": {
        "collapsed": false
      },
      "outputs": [],
      "source": [
        "%matplotlib inline"
      ]
    },
    {
      "cell_type": "markdown",
      "metadata": {},
      "source": [
        "\nUsing Unicode everywhere \ud83e\udd17\n===========================\n\nThis example demonstrates how to include non-ASCII characters, mostly emoji \ud83c\udf89\nto stress test the build and test environments that parse the example files.\n"
      ]
    },
    {
      "cell_type": "code",
      "execution_count": null,
      "metadata": {
        "collapsed": false
      },
      "outputs": [],
      "source": [
        "from __future__ import unicode_literals\n\n# \ud83c\udf89 \ud83d\udc4d\n# Code source: \u00d3scar N\u00e1jera\n# License: BSD 3 clause\n\nimport numpy as np\nimport matplotlib.pyplot as plt\n\nplt.rcParams['font.size'] = 20\nplt.rcParams[\"font.monospace\"] = [\"DejaVu Sans Mono\"]\nplt.rcParams[\"font.family\"] = \"monospace\"\n\nplt.figure()\nx = np.random.randn(100) * 2 + 1\ny = np.random.randn(100) * 6 + 3\ns = np.random.rand(*x.shape) * 800 + 500\nplt.scatter(x, y, s, marker=r'$\\oint$')\nx = np.random.randn(60) * 7 - 4\ny = np.random.randn(60) * 3 - 2\ns = s[:x.size]\nplt.scatter(x, y, s, alpha=0.5, c='g', marker=r'$\\clubsuit$')\nplt.xlabel('\u21d2')\nplt.ylabel('\u21d2')\nplt.title('\u2672' * 10)\nprint('Std out capture \ud83d\ude0e')\n# To avoid matplotlib text output\nplt.show()"
      ]
    },
    {
      "cell_type": "markdown",
      "metadata": {},
      "source": [
        "Debug fonts\n\n"
      ]
    },
    {
      "cell_type": "code",
      "execution_count": null,
      "metadata": {
        "collapsed": false
      },
      "outputs": [],
      "source": [
        "print(plt.rcParams)"
      ]
    }
  ],
  "metadata": {
    "kernelspec": {
      "display_name": "Python 3",
      "language": "python",
      "name": "python3"
    },
    "language_info": {
      "codemirror_mode": {
        "name": "ipython",
        "version": 3
      },
      "file_extension": ".py",
      "mimetype": "text/x-python",
      "name": "python",
      "nbconvert_exporter": "python",
      "pygments_lexer": "ipython3",
      "version": "3.9.16"
    }
  },
  "nbformat": 4,
  "nbformat_minor": 0
}