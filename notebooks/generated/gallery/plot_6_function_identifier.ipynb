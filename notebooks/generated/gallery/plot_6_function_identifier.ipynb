{
  "cells": [
    {
      "cell_type": "code",
      "execution_count": null,
      "metadata": {
        "collapsed": false
      },
      "outputs": [],
      "source": [
        "%matplotlib inline"
      ]
    },
    {
      "cell_type": "markdown",
      "metadata": {},
      "source": [
        "\nIdentifying function names in a script\n======================================\n\n!!! warning \"Work in progress\"\n    This feature has not been fully ported to mkdocs, see [#10](https://github.com/smarie/mkdocs-gallery/issues/10)\n\nThis demonstrates how Mkdocs-Gallery identifies function names to figure out\nwhich functions are called in the script and to which module do they belong.\n"
      ]
    },
    {
      "cell_type": "code",
      "execution_count": null,
      "metadata": {
        "collapsed": false
      },
      "outputs": [],
      "source": [
        "# Code source: \u00d3scar N\u00e1jera\n# License: BSD 3 clause\n\nimport os  # noqa, analysis:ignore\nimport matplotlib.pyplot as plt\nfrom mkdocs_gallery.backreferences import identify_names\nfrom mkdocs_gallery.py_source_parser import split_code_and_text_blocks\n\nfilename = os.__file__.replace('.pyc', '.py')\n_, script_blocks = split_code_and_text_blocks(filename)\nnames = identify_names(script_blocks)\nfigheight = len(names) + .5\n\nfontsize = 12.5"
      ]
    },
    {
      "cell_type": "markdown",
      "metadata": {},
      "source": [
        "Mkdocs-Gallery examines both the executed code itself, as well as the\ndocumentation blocks (such as this one, or the top-level one),\nto find backreferences. This means that by writing `numpy.sin`\nand `numpy.exp` here, a backreference will be created even though\nthey are not explicitly used in the code. This is useful in particular when\nfunctions return classes -- if you add them to the documented blocks of\nexamples that use them, they will be shown in the backreferences.\n\nAlso note that global variables of the script have intersphinx references\nadded to them automatically (e.g., `fig` and `fig.text` below).\n\n"
      ]
    },
    {
      "cell_type": "code",
      "execution_count": null,
      "metadata": {
        "collapsed": false
      },
      "outputs": [],
      "source": [
        "fig = plt.figure(figsize=(7.5, 8))\n\nfor i, (name, obj) in enumerate(names.items()):\n    fig.text(0.55, (float(len(names)) - 0.5 - i) / figheight,\n             name,\n             ha=\"right\",\n             size=fontsize,\n             transform=fig.transFigure,\n             bbox=dict(boxstyle='square', fc=\"w\", ec=\"k\"))\n    fig.text(0.6, (float(len(names)) - 0.5 - i) / figheight,\n             obj[0][\"module\"],\n             ha=\"left\",\n             size=fontsize,\n             transform=fig.transFigure,\n             bbox=dict(boxstyle='larrow,pad=0.1', fc=\"w\", ec=\"k\"))\n\nplt.draw()"
      ]
    }
  ],
  "metadata": {
    "kernelspec": {
      "display_name": "Python 3",
      "language": "python",
      "name": "python3"
    },
    "language_info": {
      "codemirror_mode": {
        "name": "ipython",
        "version": 3
      },
      "file_extension": ".py",
      "mimetype": "text/x-python",
      "name": "python",
      "nbconvert_exporter": "python",
      "pygments_lexer": "ipython3",
      "version": "3.7.13"
    }
  },
  "nbformat": 4,
  "nbformat_minor": 0
}