{
  "cells": [
    {
      "cell_type": "code",
      "execution_count": null,
      "metadata": {
        "collapsed": false
      },
      "outputs": [],
      "source": [
        "%matplotlib inline"
      ]
    },
    {
      "cell_type": "markdown",
      "metadata": {},
      "source": [
        "\nUsing `sys.argv` in examples\n==============================\n\nThis example demonstrates the use of `sys.argv` in example `.py` files.\n\nBy default, all example `.py` files will be run by Mkdocs-Gallery **without** any\narguments. Notice below that `sys.argv` is a list consisting of only the\nfile name. Further, any arguments added will take on the default value.\n\nThis behavior can be changed by using the `reset_argv` option in the sphinx configuration,\nsee [Passing command line arguments to example scripts](https://sphinx-gallery.github.io/stable/configuration.html#reset-argv).\n"
      ]
    },
    {
      "cell_type": "code",
      "execution_count": null,
      "metadata": {
        "collapsed": false
      },
      "outputs": [],
      "source": [
        "import argparse\nimport sys\n\nparser = argparse.ArgumentParser(description='Toy parser')\nparser.add_argument('--option', default='default',\n                    help='a dummy optional argument')\nprint('sys.argv:', sys.argv)\nprint('parsed args:', parser.parse_args())"
      ]
    }
  ],
  "metadata": {
    "kernelspec": {
      "display_name": "Python 3",
      "language": "python",
      "name": "python3"
    },
    "language_info": {
      "codemirror_mode": {
        "name": "ipython",
        "version": 3
      },
      "file_extension": ".py",
      "mimetype": "text/x-python",
      "name": "python",
      "nbconvert_exporter": "python",
      "pygments_lexer": "ipython3",
      "version": "3.9.19"
    }
  },
  "nbformat": 4,
  "nbformat_minor": 0
}