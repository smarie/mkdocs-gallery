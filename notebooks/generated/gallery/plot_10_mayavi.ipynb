{
  "cells": [
    {
      "cell_type": "code",
      "execution_count": null,
      "metadata": {
        "collapsed": false
      },
      "outputs": [],
      "source": [
        "%matplotlib inline"
      ]
    },
    {
      "cell_type": "markdown",
      "metadata": {},
      "source": [
        "\nExample with the mayavi graphing library\n========================================\n\nMkdocs-Gallery supports examples made with the\n[mayavi library](http://docs.enthought.com/mayavi/mayavi/).\n\nThis mayavi demo is from the\n[mayavi documentation](https://docs.enthought.com/mayavi/mayavi/mlab.html#a-demo).\n"
      ]
    },
    {
      "cell_type": "code",
      "execution_count": null,
      "metadata": {
        "collapsed": false
      },
      "outputs": [],
      "source": [
        "# Create the data.\nfrom numpy import pi, sin, cos, mgrid\ndphi, dtheta = pi/250.0, pi/250.0\n[phi,theta] = mgrid[0:pi+dphi*1.5:dphi,0:2*pi+dtheta*1.5:dtheta]\nm0 = 4; m1 = 3; m2 = 2; m3 = 3; m4 = 6; m5 = 2; m6 = 6; m7 = 4;\nr = sin(m0*phi)**m1 + cos(m2*phi)**m3 + sin(m4*theta)**m5 + cos(m6*theta)**m7\nx = r*sin(phi)*cos(theta)\ny = r*cos(phi)\nz = r*sin(phi)*sin(theta)\n\n# View it.\nfrom mayavi import mlab\ns = mlab.mesh(x, y, z)"
      ]
    }
  ],
  "metadata": {
    "kernelspec": {
      "display_name": "Python 3",
      "language": "python",
      "name": "python3"
    },
    "language_info": {
      "codemirror_mode": {
        "name": "ipython",
        "version": 3
      },
      "file_extension": ".py",
      "mimetype": "text/x-python",
      "name": "python",
      "nbconvert_exporter": "python",
      "pygments_lexer": "ipython3",
      "version": "3.9.18"
    }
  },
  "nbformat": 4,
  "nbformat_minor": 0
}