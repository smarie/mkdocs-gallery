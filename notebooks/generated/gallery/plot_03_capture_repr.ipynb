{
  "cells": [
    {
      "cell_type": "code",
      "execution_count": null,
      "metadata": {
        "collapsed": false
      },
      "outputs": [],
      "source": [
        "%matplotlib inline"
      ]
    },
    {
      "cell_type": "markdown",
      "metadata": {},
      "source": [
        "\nCapturing output representations\n================================\n\nThis example demonstrates how the `capture_repr` configuration option\n([Controlling what output is captured](https://sphinx-gallery.github.io/stable/configuration.html#capture-repr))\n works. The default `capture_repr` setting is\n`('_repr_html_', '__repr__')` and was used to build this\nMkdocs-Gallery documentation. The output that is captured with this setting\nis demonstrated in this example. Differences in outputs that would be captured\nwith other `capture_repr` settings are also explained.\n"
      ]
    },
    {
      "cell_type": "markdown",
      "metadata": {},
      "source": [
        "Nothing is captured for the code block below because no data is directed to\nstandard output and the last statement is an assignment, not an expression.\n\n"
      ]
    },
    {
      "cell_type": "code",
      "execution_count": null,
      "metadata": {
        "collapsed": false
      },
      "outputs": [],
      "source": [
        "# example 1\na = 2\nb = 10"
      ]
    },
    {
      "cell_type": "markdown",
      "metadata": {},
      "source": [
        "If you did wish to capture the value of `b`, you would need to use:\n\n"
      ]
    },
    {
      "cell_type": "code",
      "execution_count": null,
      "metadata": {
        "collapsed": false
      },
      "outputs": [],
      "source": [
        "# example 2\na = 2\nb = 10\nb   # this is an expression"
      ]
    },
    {
      "cell_type": "markdown",
      "metadata": {},
      "source": [
        "Mkdocs-Gallery first attempts to capture the `_repr_html_` of `b` as this\nis the first 'representation' method in the `capture_repr` tuple. As this\nmethod does not exist for `b`, Mkdocs-Gallery moves on and tries to capture\nthe `__repr__` method, which is second in the tuple. This does exist for\n`b` so it is captured and the output is seen above.\n\nA pandas dataframe is used in the code block below to provide an example of\nan expression with a `_repr_html_` method.\n\n"
      ]
    },
    {
      "cell_type": "code",
      "execution_count": null,
      "metadata": {
        "collapsed": false
      },
      "outputs": [],
      "source": [
        "# example 3\nimport pandas as pd\n\ndf = pd.DataFrame(data = {'col1': [1, 2], 'col2': [3, 4]})\ndf"
      ]
    },
    {
      "cell_type": "markdown",
      "metadata": {},
      "source": [
        "The pandas dataframe `df` has both a `__repr__` and `_repr_html_`\nmethod. As `_repr_html_` appears first in the `capture_repr` tuple, the\n`_repr_html_` is captured in preference to `__repr__`.\n\nStatsmodels tables should also be styled appropriately:\n\n"
      ]
    },
    {
      "cell_type": "code",
      "execution_count": null,
      "metadata": {
        "collapsed": false
      },
      "outputs": [],
      "source": [
        "# example 4\nimport numpy as np\nimport statsmodels.iolib.table\nstatsmodels.iolib.table.SimpleTable(np.zeros((3, 3)))"
      ]
    },
    {
      "cell_type": "markdown",
      "metadata": {},
      "source": [
        "For the example below, there is data directed to standard output and the last\nstatement is an expression.\n\n"
      ]
    },
    {
      "cell_type": "code",
      "execution_count": null,
      "metadata": {
        "collapsed": false
      },
      "outputs": [],
      "source": [
        "# example 5\nprint('Hello world')\na + b"
      ]
    },
    {
      "cell_type": "markdown",
      "metadata": {},
      "source": [
        "`print()` outputs to standard output, which is always captured. The\nstring `'Hello world'` is thus captured. A 'representation' of the last\nexpression is also captured. Again, since this expression `a + b` does not\nhave a `_repr_html_` method, the `__repr__` method is captured.\n\n\nMatplotlib output\n-----------------\n\nMatplotlib function calls generally return a Matplotlib object as well as\noutputting the figure. For code blocks where the last statement is a\nMatplotlib expression, a 'representation' of the object will be captured, as\nwell as the plot. This is because Matplotlib objects have a `__repr__`\nmethod and our `capture_repr` tuple contains `__repr__`. Note that\nMatplotlib objects also have a `__str__` method.\n\nIn the example below, `matplotlib.pyplot.plot()` returns a list of\n`Line2D` objects representing the plotted data and the `__repr__` of the\nlist is captured as well as the figure:\n\n"
      ]
    },
    {
      "cell_type": "code",
      "execution_count": null,
      "metadata": {
        "collapsed": false
      },
      "outputs": [],
      "source": [
        "import matplotlib.pyplot as plt\n\nplt.plot([1,2,3])"
      ]
    },
    {
      "cell_type": "markdown",
      "metadata": {},
      "source": [
        "To avoid capturing the text representation, you can assign the last Matplotlib\nexpression to a temporary variable:\n\n"
      ]
    },
    {
      "cell_type": "code",
      "execution_count": null,
      "metadata": {
        "collapsed": false
      },
      "outputs": [],
      "source": [
        "_ = plt.plot([1,2,3])"
      ]
    },
    {
      "cell_type": "markdown",
      "metadata": {},
      "source": [
        "Alternatively, you can add `plt.show()`, which does not return anything,\nto the end of the code block:\n\n"
      ]
    },
    {
      "cell_type": "code",
      "execution_count": null,
      "metadata": {
        "collapsed": false
      },
      "outputs": [],
      "source": [
        "plt.plot([1,2,3])\nplt.show()"
      ]
    },
    {
      "cell_type": "markdown",
      "metadata": {},
      "source": [
        "The `capture_repr` configuration\n--------------------------------\n\nThe `capture_repr` configuration is `('_repr_html_', '__repr__')` by\ndefault. This directs Mkdocs-Gallery to capture 'representations' of the last\nstatement of a code block, if it is an expression. Mkdocs-Gallery does\nthis according to the order 'representations' appear in the tuple.\n\nWith the default `capture_repr` setting, `_repr_html_` is attempted to be\ncaptured first. If this method does not exist, the `__repr__` method would be\ncaptured. If the `__repr__` also does not exist (unlikely for non-user\ndefined objects), nothing would be captured. For example, if the the\nconfiguration was set to `'capture_repr': ('_repr_html_')` nothing would be\ncaptured for example 2 as `b` does not have a `_repr_html_`.\nYou can change the 'representations' in the `capture_repr` tuple to finely\ntune what is captured in your example `.py` files.\n\nTo only capture data directed to standard output you can set `capture_repr`\nto be an empty tuple: `capture_repr: ()`. With this setting, only data\ndirected to standard output is captured. For the examples above, output would\nonly be captured for example 4. Although the last statement is an expression\nfor examples 2, 3 and 4 no 'representation' of the last expression would be\noutput. You would need to add `print()` to the last expression to capture\na 'representation' of it.\n\nThe empty tuple setting imitates the behaviour of Sphinx-Gallery prior to\nv0.5.0, when this configuration was introduced.\n\n"
      ]
    }
  ],
  "metadata": {
    "kernelspec": {
      "display_name": "Python 3",
      "language": "python",
      "name": "python3"
    },
    "language_info": {
      "codemirror_mode": {
        "name": "ipython",
        "version": 3
      },
      "file_extension": ".py",
      "mimetype": "text/x-python",
      "name": "python",
      "nbconvert_exporter": "python",
      "pygments_lexer": "ipython3",
      "version": "3.9.20"
    }
  },
  "nbformat": 4,
  "nbformat_minor": 0
}