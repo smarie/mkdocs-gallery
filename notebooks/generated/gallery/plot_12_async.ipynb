{
  "cells": [
    {
      "cell_type": "code",
      "execution_count": null,
      "metadata": {
        "collapsed": false
      },
      "outputs": [],
      "source": [
        "%matplotlib inline"
      ]
    },
    {
      "cell_type": "markdown",
      "metadata": {},
      "source": [
        "\n# Support for asynchronous code\n\n[PEP 429](https://peps.python.org/pep-0492), which was first implemented in\n[Python 3.5](https://docs.python.org/3/whatsnew/3.5.html#whatsnew-pep-492), added initial syntax for asynchronous\nprogramming in Python: `async` and `await`. \n\nWhile this was a major improvement in particular for UX development, one major\ndownside is that it \"poisons\" the caller's code base. If you want to `await` a coroutine, you have to be inside a `async def`\ncontext. Doing so turns the function into a coroutine function and thus forces the caller to also `await` its results.\nRinse and repeat until you reach the beginning of the stack.\n\nSince version `0.10.0`, `mkdocs-gallery` is now able to automatically detect code blocks using async programming, and to handle them nicely so that you don't have to wrap them. This feature is enabled by default and does not require any configuration option. Generated notebooks remain consistent with [`jupyter` notebooks](https://jupyter.org/), or rather the [`IPython` kernel](https://ipython.org/) running\nthe code inside of them, that is equipped with \n[background handling to allow top-level asynchronous code](https://ipython.readthedocs.io/en/stable/interactive/autoawait.html).\n"
      ]
    },
    {
      "cell_type": "code",
      "execution_count": null,
      "metadata": {
        "collapsed": false
      },
      "outputs": [],
      "source": [
        "import asyncio\nimport time\n\n\nasync def afn():\n    start = time.time()\n    await asyncio.sleep(0.3)\n    stop = time.time()\n    return stop - start\n\n\nf\"I waited for {await afn():.1f} seconds!\""
      ]
    },
    {
      "cell_type": "markdown",
      "metadata": {},
      "source": [
        "Without any handling, the snippet above would trigger a `SyntaxError`, since we are using `await` outside of an\nasynchronous context. With the background handling, it works just fine.\n\nApart from `await` that we used above, all other asynchronous syntax is supported as well.\n\n## Asynchronous Generators\n\n"
      ]
    },
    {
      "cell_type": "code",
      "execution_count": null,
      "metadata": {
        "collapsed": false
      },
      "outputs": [],
      "source": [
        "async def agen():\n    for chunk in \"I'm an async iterator!\".split():\n        yield chunk\n\n\nasync for chunk in agen():\n    print(chunk, end=\" \")"
      ]
    },
    {
      "cell_type": "markdown",
      "metadata": {},
      "source": [
        "## Asynchronous Comprehensions\n\n"
      ]
    },
    {
      "cell_type": "code",
      "execution_count": null,
      "metadata": {
        "collapsed": false
      },
      "outputs": [],
      "source": [
        "\" \".join([chunk async for chunk in agen()])"
      ]
    },
    {
      "cell_type": "markdown",
      "metadata": {},
      "source": [
        "## Asynchronous Context Managers\n\n"
      ]
    },
    {
      "cell_type": "code",
      "execution_count": null,
      "metadata": {
        "collapsed": false
      },
      "outputs": [],
      "source": [
        "import contextlib\n\n\n@contextlib.asynccontextmanager\nasync def acm():\n    print(\"Entering asynchronous context manager!\")\n    yield\n    print(\"Exiting asynchronous context manager!\")\n\n\nasync with acm():\n    print(\"Inside the context!\")"
      ]
    }
  ],
  "metadata": {
    "kernelspec": {
      "display_name": "Python 3",
      "language": "python",
      "name": "python3"
    },
    "language_info": {
      "codemirror_mode": {
        "name": "ipython",
        "version": 3
      },
      "file_extension": ".py",
      "mimetype": "text/x-python",
      "name": "python",
      "nbconvert_exporter": "python",
      "pygments_lexer": "ipython3",
      "version": "3.9.20"
    }
  },
  "nbformat": 4,
  "nbformat_minor": 0
}